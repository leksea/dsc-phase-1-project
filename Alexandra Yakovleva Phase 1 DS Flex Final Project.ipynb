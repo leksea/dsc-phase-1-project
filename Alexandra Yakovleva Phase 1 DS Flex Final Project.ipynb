{
 "cells": [
  {
   "cell_type": "markdown",
   "metadata": {},
   "source": [
    "## Final Project Submission\n",
    "\n",
    "Please fill out:\n",
    "* Student name: \n",
    "* Student pace: self paced / part time / full time\n",
    "* Scheduled project review date/time: \n",
    "* Instructor name: \n",
    "* Blog post URL:\n"
   ]
  },
  {
   "cell_type": "markdown",
   "metadata": {},
   "source": [
    "## Let's begin!\n",
    "The assignment states the business problem as following:\n",
    "\n",
    "<i>\n",
    "Your company is expanding in to new industries to diversify its portfolio. Specifically, they are interested in purchasing and operating airplanes for commercial and private enterprises, but do not know anything about the potential risks of aircraft. You are charged with determining which aircraft are the lowest risk for the company to start this new business endeavor. You must then translate your findings into actionable insights that the head of the new aviation division can use to help decide which aircraft to purchase.\n",
    "</i>\n",
    "\n",
    "Here's my roadmap for the asignment:\n",
    "\n",
    "1. Load the dataset.\n",
    "2. Get a brief look at dataset to identify columns that can be discarded.\n",
    "3. For a smaller subset, perform data cleaning and filtering.\n",
    "4. Visualize the dataset.\n",
    "5. Saved the cleaned up set for Tabelau use.\n",
    "\n",
    "I'll use Pandas and Matplotlib to load, clean up, filter, and visualize the aviation accidents data. "
   ]
  },
  {
   "cell_type": "markdown",
   "metadata": {},
   "source": [
    "## 1. Dataset\n",
    "\n",
    "To answer the stated problem, we'll be using Kaggle's Aviation Accident Database & Synopses, up to 2023 <l>https://www.kaggle.com/datasets/khsamaha/aviation-accident-database-synopses</l>.\n",
    "Note about the datset:\n",
    "This is a publicly available third-party dataset distributed by NTSD, with the data collected exclusively in US.\n",
    "The data is distributed under CC0 1.0 DEED/CC0 1.0 Universal license, implying that we can copy, modify, distribute and perform the work, even for commercial purposes, all without asking permission.\n"
   ]
  },
  {
   "cell_type": "code",
   "execution_count": 385,
   "metadata": {},
   "outputs": [],
   "source": [
    "# start with importing Python data loading and data analysis libraries\n",
    "\n",
    "# for dataframe management\n",
    "import pandas as pd\n",
    "# for stats, if needed\n",
    "import numpy as np\n",
    "# for plotting\n",
    "import matplotlib.pyplot as plt\n",
    "# for loading/saving locally\n",
    "import os\n",
    "\n",
    "%matplotlib inline\n"
   ]
  },
  {
   "cell_type": "markdown",
   "metadata": {},
   "source": [
    "Specify directories that contain the data."
   ]
  },
  {
   "cell_type": "code",
   "execution_count": 396,
   "metadata": {},
   "outputs": [
    {
     "name": "stdout",
     "output_type": "stream",
     "text": [
      "<class 'pandas.core.frame.DataFrame'>\n",
      "RangeIndex: 90348 entries, 0 to 90347\n",
      "Data columns (total 31 columns):\n",
      " #   Column                  Non-Null Count  Dtype  \n",
      "---  ------                  --------------  -----  \n",
      " 0   Event.Id                88889 non-null  object \n",
      " 1   Investigation.Type      90348 non-null  object \n",
      " 2   Accident.Number         88889 non-null  object \n",
      " 3   Event.Date              88889 non-null  object \n",
      " 4   Location                88837 non-null  object \n",
      " 5   Country                 88663 non-null  object \n",
      " 6   Latitude                34382 non-null  object \n",
      " 7   Longitude               34373 non-null  object \n",
      " 8   Airport.Code            50249 non-null  object \n",
      " 9   Airport.Name            52790 non-null  object \n",
      " 10  Injury.Severity         87889 non-null  object \n",
      " 11  Aircraft.damage         85695 non-null  object \n",
      " 12  Aircraft.Category       32287 non-null  object \n",
      " 13  Registration.Number     87572 non-null  object \n",
      " 14  Make                    88826 non-null  object \n",
      " 15  Model                   88797 non-null  object \n",
      " 16  Amateur.Built           88787 non-null  object \n",
      " 17  Number.of.Engines       82805 non-null  float64\n",
      " 18  Engine.Type             81812 non-null  object \n",
      " 19  FAR.Description         32023 non-null  object \n",
      " 20  Schedule                12582 non-null  object \n",
      " 21  Purpose.of.flight       82697 non-null  object \n",
      " 22  Air.carrier             16648 non-null  object \n",
      " 23  Total.Fatal.Injuries    77488 non-null  float64\n",
      " 24  Total.Serious.Injuries  76379 non-null  float64\n",
      " 25  Total.Minor.Injuries    76956 non-null  float64\n",
      " 26  Total.Uninjured         82977 non-null  float64\n",
      " 27  Weather.Condition       84397 non-null  object \n",
      " 28  Broad.phase.of.flight   61724 non-null  object \n",
      " 29  Report.Status           82508 non-null  object \n",
      " 30  Publication.Date        73659 non-null  object \n",
      "dtypes: float64(5), object(26)\n",
      "memory usage: 21.4+ MB\n"
     ]
    }
   ],
   "source": [
    "# Specify the data directory and the data file name\n",
    "directory = 'data'\n",
    "file_name = 'Aviation_Data.csv'\n",
    "\n",
    "\n",
    "# Join the directory and file name using os.path.join\n",
    "file_path = os.path.join(directory, file_name)\n",
    "\n",
    "# Read the CSV file into a DataFrame\n",
    "aviation_accidents_df = pd.read_csv(file_path, low_memory=False)\n",
    "aviation_accidents_df.head()\n",
    "# also load the state codes\n",
    "\n",
    "file_codes_name = 'USState_Codes.csv'\n",
    "file_path_StateCodes = os.path.join(directory, file_codes_name)\n",
    "state_codes_df = pd.read_csv(file_path_StateCodes)\n",
    "\n",
    "aviation_accidents_df.info()"
   ]
  },
  {
   "cell_type": "markdown",
   "metadata": {},
   "source": [
    "Each row contains information about an aviation accident (what, when, where, how).Our dataset has 31 columns and 90348 entries.\n",
    "Just by looking at the head of the dataset, there's a lot of missing data. We're going to take a look at the value ranges of the columns next to decide on what information to keep and what to drop. "
   ]
  },
  {
   "cell_type": "code",
   "execution_count": null,
   "metadata": {},
   "outputs": [],
   "source": [
    "# Generate info for each column\n",
    "\n",
    "for column in aviation_accidents_df.columns:\n",
    "    unique_values = aviation_accidents_df[column].unique()\n",
    "    count_per_category = aviation_accidents_df[column].value_counts()\n",
    "    \n",
    "    print(f\"Column: {column}\")\n",
    "    print(\"Unique values:\", unique_values)\n",
    "    print(\"Count per category:\")\n",
    "    print(count_per_category)\n",
    "    print(\"\\n\")"
   ]
  },
  {
   "cell_type": "markdown",
   "metadata": {},
   "source": [
    "|Column Name | Column Description | What are we going to do |\n",
    "|------------|--------------------|------------------------|\n",
    "| Event.Id   | Event ID, some values repeat, likely when plane A got tangled up with plane B.| Drop it|\n",
    "|Investigation.Type|Mostly Accident/Incident but dates got mixed into it| Clean up|\n",
    "|Accident.Number| Similar to event ID| Drop it|\n",
    "|Event.Date|When it happened| Keep, convert to date|\n",
    "|Location|Where it happened, nearest city| Icomplete geo info, duplicates Lat/Long. Split into city/state columns|\n",
    "|Country|Where it happened|Keep it for now|\n",
    "|Latitude| Where exactly it happened | Important for future viz, data is mixed, convert to same format| \n",
    "|Longitude|Where exactly it happened| Important for future viz, data is mixed, convert to same format|\n",
    "|Airport.Code|Where it hapened| Drop it|\n",
    "|Airport.Name| Where it hapened | Drop it|\n",
    "|Injury.Severity| What hapened/How severe | Has mixed data format, needs cleaning. Overall redundant with the oither injury columns| \n",
    "|Aircraft.damage| Was the aircraft damaged| Data looks OK, do minor cleaning with the cathegories|\n",
    "|Aircraft.Category| Type of carrier |Clean up|\n",
    "|Registration.Number|-| Drop it|\n",
    "|Make|Manufacturer| Clean up, has duplicates| \n",
    "|Model|Model Code|Might need cleanup|\n",
    "|Amateur.Built|Yes/No| Data looks OK | \n",
    "|Number.of.Engines|-|Data looks OK|\n",
    "|Engine.Type|-|Data needs cleaning| \n",
    "|FAR.Description|Code describing the aircraft purpose|Drop it|\n",
    "|Schedule|If flight was scheduled or not|Drop it|\n",
    "|Purpose.of.flight|-|There's a possibilty of consolidating values into cathegories that would help with filtering|\n",
    "|Air.carrier|-|Drop it|\n",
    "|Total.Fatal.Injuries|-|Clean up|\n",
    "|Total.Serious.Injuries|-| Clean up|\n",
    "|Total.Minor.Injuries|-| Clean up|\n",
    "|Total.Uninjured|-|Clean up|\n",
    "|Weather.Condition|Weather condition code|Drop it, we don't know what the codes mean|\n",
    "|Broad.phase.of.flight|Code for the phase of flight|Keep it|\n",
    "|Report.Status|-|Looks easiest to drop it, or create a column with 'pilot + failure'|\n",
    "|Publication.Date|-|Drop it|"
   ]
  },
  {
   "cell_type": "markdown",
   "metadata": {},
   "source": [
    "  ## 2. Selecting relevant columns from the datset.\n",
    "The rationale behind dropping some of the columns is simple: we won't be able to filter out relevant data based on the information available in the column.\n"
   ]
  },
  {
   "cell_type": "code",
   "execution_count": null,
   "metadata": {},
   "outputs": [],
   "source": [
    "cols_to_remove = ['Event.Id','Accident.Number', 'Airport.Code', 'Airport.Name', 'Registration.Number', \\\n",
    "                  'FAR.Description', 'Schedule','Air.carrier', 'Weather.Condition', \\\n",
    "                  'Broad.phase.of.flight', 'Publication.Date', 'Report.Status']\n",
    "\n",
    "compact_aa_df = aviation_accidents_df.drop(columns=cols_to_remove)\n",
    "compact_aa_df.head()\n"
   ]
  },
  {
   "cell_type": "markdown",
   "metadata": {},
   "source": [
    "## 3. Data Cleaning.\n",
    "\n",
    "1. Replacing all dates in Investigation.Type with 'Unknown'\n",
    "2. Converting Event.Date to DateTime format.\n",
    "3. Splitting Location into City, State, capitalizing the city name.\n",
    "4. Cleaning up Country.\n",
    "5. Latitude, Longitude are a mix of DMS (degrees-minutes-seconds) and decimal degrees. We'll need to convert it to a uniform format (decimal degree coordinate).\n",
    "6. Convert Injury.Severity to Fatal, Non-Fatal, Incident, Unknown\n",
    "7. Clean up Aircraft.Category (NaN-Unknown)\n",
    "8. Remove duplicates in Make, Model \n",
    "9. For Amateur.Built\tNumber.of.Engines\tEngine.Type, replace NaNs with Unknowns."
   ]
  },
  {
   "cell_type": "code",
   "execution_count": null,
   "metadata": {},
   "outputs": [],
   "source": [
    "#1 'Investigation.Type': Replace dates with Unknown \n",
    "valid_values = ['Accident', 'Incident']\n",
    "compact_aa_df['Investigation.Type'].fillna('Unknown', inplace=True)\n",
    "compact_aa_df.loc[~compact_aa_df['Investigation.Type'].isin(valid_values), 'Investigation.Type'] = 'Unknown'\n",
    "compact_aa_df['Investigation.Type'].describe()\n",
    "#2 'Event.Date' convert to date.time\n",
    "compact_aa_df['Event.Date'] = pd.to_datetime(compact_aa_df['Event.Date'])\n",
    "\n",
    "#3 'Location' split into City and State\n",
    "compact_aa_df['Location'].fillna('Unknown', inplace=True)\n",
    "city_state = compact_aa_df['Location'].str.replace(' ', '').str.split(',', expand=True)\n",
    "\n",
    "#insert before country\n",
    "\n",
    "insert_location = compact_aa_df.columns.get_loc('Location') + 1\n",
    "\n",
    "# Insert the new column at the specified location\n",
    "compact_aa_df.insert(insert_location, 'City', city_state.iloc[:, 0].str.title())\n",
    "compact_aa_df.insert(insert_location + 1, 'State', city_state.iloc[:, 1])\n",
    "\n",
    "compact_aa_df.drop(columns='Location', inplace=True)"
   ]
  },
  {
   "cell_type": "code",
   "execution_count": null,
   "metadata": {},
   "outputs": [],
   "source": [
    "# 'State'contains either a valid state or a duplicate of a country. remove everything that is not a valid state.\n",
    "# Create a mapping dictionary\n",
    "abbreviation_mapping = dict(zip(state_codes_df['Abbreviation'], state_codes_df['Abbreviation']))\n",
    "\n",
    "# Map the values in df2['State']\n",
    "compact_aa_df['State'] = compact_aa_df['State'].apply(lambda x: abbreviation_mapping.get(x, None))\n",
    "\n",
    "#4 'Country': replace NaN with Unknown and title\n",
    "compact_aa_df['Country'].fillna('Unknown', inplace=True)\n",
    "compact_aa_df['Country'] = compact_aa_df['Country'].str.title()"
   ]
  },
  {
   "cell_type": "markdown",
   "metadata": {},
   "source": [
    "For #5, we'll implement a function that'll convert DMS geo data into decimal number. As we saw, the data type in the column is either nan, NaN, a decimal coordinate, or a DMS coordinate. "
   ]
  },
  {
   "cell_type": "code",
   "execution_count": null,
   "metadata": {},
   "outputs": [],
   "source": [
    "import re\n",
    "# check for DMS pattern in a string: ends with 4 types of letters the rest are nubers including 0\n",
    "def is_dms(coordinate_dms):\n",
    "    # regular expression pattern for DMS format\n",
    "    dms_pattern = re.compile(r'^0?\\d+?[NSEW]$')\n",
    "    # If the string matches the DMS pattern\n",
    "    return bool(dms_pattern.match(coordinate_dms))\n",
    "\n",
    "def dms2decimal(coordinate):\n",
    "# Converting DMS data to decimal degree data\n",
    "   \n",
    "    # check for float values first\n",
    "    if isinstance(coordinate, float):\n",
    "        return coordinate\n",
    "    \n",
    "    # do conversion in try-catch block\n",
    "    decimal_degrees = float('nan')\n",
    "    try:\n",
    "        # if its DMS, convert\n",
    "        if is_dms(coordinate):\n",
    "            direction = coordinate[-1]\n",
    "            deg_min_sec = coordinate[:-1]\n",
    "            # Extract seconds (last two), minutes (middle two), degrees (everything else)\n",
    "            seconds = int(deg_min_sec[:-2])            \n",
    "            minutes = int(deg_min_sec[-4:-2])\n",
    "            degrees = int(deg_min_sec[:-4])\n",
    "\n",
    "            # Convert to decimal degrees\n",
    "            decimal_degrees = degrees + (minutes / 60) + (seconds / 3600)\n",
    "\n",
    "            # Add a negative sign for the Northern or Western hemisphere\n",
    "            \n",
    "            if (direction in ['S', 'W']):\n",
    "                decimal_degrees *= -1\n",
    "        #if not DMS, try converting to float  \n",
    "        else:\n",
    "            decimal_degrees = float(coordinate)\n",
    "    except TypeError as te:\n",
    "        print(f'A type error occurred: {te}')\n",
    "        print(coordinate)\n",
    "    except ValueError as ve:\n",
    "        print(f'A value error occurred: {ve}')\n",
    "        print(coordinate)\n",
    "        \n",
    "    return decimal_degrees"
   ]
  },
  {
   "cell_type": "code",
   "execution_count": null,
   "metadata": {},
   "outputs": [],
   "source": [
    "#5. 'Latitude', 'Longitude' convert to decimals\n",
    "non_nan_values_lat = compact_aa_df['Latitude'].notna()\n",
    "compact_aa_df.loc[non_nan_values_lat, 'Latitude'] = \\\n",
    "    compact_aa_df.loc[non_nan_values_lat, 'Latitude'].apply(dms2decimal)\n",
    "\n",
    "non_nan_values_long = compact_aa_df['Longitude'].notna()\n",
    "compact_aa_df.loc[non_nan_values_long, 'Longitude'] = \\\n",
    "    compact_aa_df.loc[non_nan_values_long, 'Longitude'].apply(dms2decimal)"
   ]
  },
  {
   "cell_type": "code",
   "execution_count": null,
   "metadata": {},
   "outputs": [],
   "source": [
    "# 6.'Injury.Severity': replace all Fatal(xx) with Fatal, replace 'Minor' or 'Serious' with Non-Fatal\n",
    "compact_aa_df['Injury.Severity'] = compact_aa_df['Injury.Severity'].str.replace('^Fatal.*', 'Fatal')\n",
    "compact_aa_df['Injury.Severity'] = compact_aa_df['Injury.Severity'].str.replace('Minor', 'Non-Fatal')\n",
    "compact_aa_df['Injury.Severity'] = compact_aa_df['Injury.Severity'].str.replace('Serious', 'Non-Fatal')\n",
    "\n",
    "compact_aa_df['Injury.Severity'].fillna('Unavailable', inplace=True)\n",
    "\n",
    "#'Aircraft.damage': replace nan values with Unknown \n",
    "compact_aa_df['Aircraft.damage'].fillna('Unknown', inplace=True)\n",
    "# rename the column to match overall style\n",
    "compact_aa_df.rename(columns={'Aircraft.damage': 'Aircraft.Damage'}, inplace=True)\n",
    "\n",
    "# 7. 'Aircraft.Category' replace nan with Unknown, \n",
    "# replace ULTR with Ultralight, WSFT with Weightshift, UNK with Unknown \n",
    "compact_aa_df['Aircraft.Category'].fillna('Unknown', inplace=True)\n",
    "compact_aa_df['Aircraft.Category'] = compact_aa_df['Aircraft.Category'].str.replace('ULTR', 'Ultralight')\n",
    "compact_aa_df['Aircraft.Category'] = compact_aa_df['Aircraft.Category'].str.replace('WSFT', 'Weight-Shift')\n",
    "compact_aa_df['Aircraft.Category'] = compact_aa_df['Aircraft.Category'].str.replace('UNK', 'Unknown')\n",
    "\n",
    "\n",
    "# 8 'Make': Use str.title for all aircrtaft makes to get rid of duplicates\n",
    "# 'Model'  \n",
    "compact_aa_df['Make'] = compact_aa_df['Make'].str.title()\n",
    "compact_aa_df['Model'].fillna('Unknown', inplace=True)\n",
    "\n",
    "# 9. Purpose.of.flight # replace ULTR with Ultralight, WSFT with Weightshift, UNK with Unknown \n",
    "compact_aa_df['Aircraft.Category'] = compact_aa_df['Aircraft.Category'].str.replace('ULTR', 'Ultralight')\n",
    "compact_aa_df['Aircraft.Category'] = compact_aa_df['Aircraft.Category'].str.replace('WSFT', 'Weight-Shift')\n",
    "compact_aa_df['Aircraft.Category'] = compact_aa_df['Aircraft.Category'].str.replace('UNK', 'Unknown')"
   ]
  },
  {
   "cell_type": "code",
   "execution_count": null,
   "metadata": {},
   "outputs": [],
   "source": [
    "# 9 'Amateur.Built' replace NA with Unknown\n",
    "compact_aa_df['Amateur.Built'].fillna('Unknown', inplace=True)\n",
    "\n",
    "\n",
    "for column in compact_aa_df.columns:\n",
    "    unique_values = compact_aa_df[column].unique()\n",
    "    count_per_category = compact_aa_df[column].value_counts()\n",
    "    \n",
    "    print(f\"Column: {column}\")\n",
    "    print(\"Unique values:\", unique_values)\n",
    "    print(\"Count per category:\")\n",
    "    print(count_per_category)\n",
    "    print(\"\\n\")"
   ]
  },
  {
   "cell_type": "markdown",
   "metadata": {},
   "source": [
    "## 4. Exploratory analysis.\n",
    "\n",
    "Now that we have a cleaned dataset, let's begin with plotting "
   ]
  },
  {
   "cell_type": "code",
   "execution_count": 380,
   "metadata": {},
   "outputs": [
    {
     "data": {
      "image/png": "[encoded data removed]",
      "text/plain": [
       "<Figure size 864x576 with 1 Axes>"
      ]
     },
     "metadata": {
      "needs_background": "light"
     },
     "output_type": "display_data"
    }
   ],
   "source": [
    "# Number of accidents by year\n",
    "\n",
    "df_accidents_clean = compact_aa_df.dropna().copy()\n",
    "df_accidents_clean['Year'] = df_accidents_clean['Event.Date'].dt.year.astype(int)\n",
    "\n",
    "# Filter years > 1982 \n",
    "df_accidents_clean = df_accidents_clean[df_accidents_clean['Investigation.Type'] == 'Accident']\n",
    "df_accidents_clean_after_1982 = df_accidents_clean[df_accidents_clean['Year'] >= 1982]\n",
    "\n",
    "# injury by years\n",
    "injury_by_year_cols = ['Year', 'Total.Fatal.Injuries', 'Total.Serious.Injuries', \\\n",
    "                                     'Total.Minor.Injuries', 'Total.Uninjured']\n",
    "df_agg_inj_by_year = df_accidents_clean_after_1982[injury_by_year_cols].groupby('Year').sum()\n",
    "\n",
    "#injury by country\n",
    "injury_by_country_cols = ['Country', 'Total.Fatal.Injuries', 'Total.Serious.Injuries', \\\n",
    "                                     'Total.Minor.Injuries', 'Total.Uninjured']\n",
    "df_agg_inj_by_country = df_accidents_clean_after_1982[injury_by_country_cols].groupby('Country').sum()\n",
    "\n",
    "#injuty by purpose of the flight\n",
    "injury_by_flight_cols = ['Country', 'Total.Fatal.Injuries', 'Total.Serious.Injuries', \\\n",
    "                                     'Total.Minor.Injuries', 'Total.Uninjured']\n",
    "df_agg_inj_by_country = df_accidents_clean_after_1982[injury_by_country_cols].groupby('Country').sum()\n",
    "\n",
    "\n",
    "\n",
    "\n",
    "\n",
    "\n",
    "\n",
    "\n",
    "# Plotting\n",
    "fig, ax = plt.subplots(figsize=(12, 8))\n",
    "df_agg.plot(kind='bar', stacked=True, ax=ax)\n",
    "\n",
    "# Labels\n",
    "plt.title('Aviation Accident Injuries by Year', fontsize = 22)\n",
    "plt.xlabel('Year', fontsize = 18)\n",
    "plt.ylabel('Number of Injuries', fontsize = 18)\n",
    "plt.legend(title='Injury Type', bbox_to_anchor=(1.05, 1), loc='upper left', fontsize = 14);\n",
    "plt.xticks(fontsize=14, rotation=45);\n",
    "plt.yticks(fontsize=14, rotation=45);"
   ]
  },
  {
   "cell_type": "code",
   "execution_count": null,
   "metadata": {},
   "outputs": [],
   "source": [
    "# Number of accidents by Flight purpose\n",
    "\n",
    "injury_columns = ['Country', 'Total.Fatal.Injuries', 'Total.Serious.Injuries', \\\n",
    "                                     'Total.Minor.Injuries', 'Total.Uninjured']\n",
    "df_agg = df_accidents_clean_after_1982[injury_columns].groupby('Country').sum()\n",
    "\n",
    "\n",
    "# Plotting\n",
    "fig, ax = plt.subplots(figsize=(12, 8))\n",
    "df_agg.plot(kind='bar', stacked=True, ax=ax)\n",
    "\n",
    "# Labels\n",
    "plt.title('Aviation Accident Injuries by Country', fontsize = 22)\n",
    "plt.xlabel('Year', fontsize = 18)\n",
    "plt.ylabel('Number of Injuries', fontsize = 18)\n",
    "plt.legend(title='Injury Type', bbox_to_anchor=(1.05, 1), loc='upper left', fontsize = 14);\n",
    "plt.xticks(fontsize=14, rotation=45);\n",
    "plt.yticks(fontsize=14, rotation=45);"
   ]
  },
  {
   "cell_type": "markdown",
   "metadata": {},
   "source": [
    "Now let's look at the aircraft stats: distribution of accidents by Make, Model, Flight Type, Engine Type.\n",
    "Then we'll look into Plane Damage.  "
   ]
  },
  {
   "cell_type": "code",
   "execution_count": null,
   "metadata": {},
   "outputs": [],
   "source": [
    "\n",
    "injury_columns = ['Make', 'Total.Fatal.Injuries', 'Total.Serious.Injuries', \\\n",
    "                                     'Total.Minor.Injuries', 'Total.Uninjured']\n",
    "df_agg = df_accidents_clean_after_1982[injury_columns].groupby('Make').sum()\n",
    "\n",
    "\n",
    "# Plotting\n",
    "fig, ax = plt.subplots(figsize=(12, 8))\n",
    "df_agg.plot(kind='bar', stacked=True, ax=ax)\n",
    "\n",
    "# Labels\n",
    "plt.title('Aviation Accident Injuries by Manufacturer', fontsize = 22)\n",
    "plt.xlabel('Make', fontsize = 18)\n",
    "plt.ylabel('Number of Injuries', fontsize = 18)\n",
    "plt.legend(title='Injury Type', bbox_to_anchor=(1.05, 1), loc='upper left', fontsize = 14);\n",
    "plt.xticks(fontsize=14, rotation=45);\n",
    "plt.yticks(fontsize=14, rotation=45);"
   ]
  },
  {
   "cell_type": "code",
   "execution_count": null,
   "metadata": {},
   "outputs": [],
   "source": []
  },
  {
   "cell_type": "code",
   "execution_count": null,
   "metadata": {},
   "outputs": [],
   "source": []
  }
 ],
 "metadata": {
  "kernelspec": {
   "display_name": "Python 3",
   "language": "python",
   "name": "python3"
  },
  "language_info": {
   "codemirror_mode": {
    "name": "ipython",
    "version": 3
   },
   "file_extension": ".py",
   "mimetype": "text/x-python",
   "name": "python",
   "nbconvert_exporter": "python",
   "pygments_lexer": "ipython3",
   "version": "3.8.5"
  }
 },
 "nbformat": 4,
 "nbformat_minor": 2
}
